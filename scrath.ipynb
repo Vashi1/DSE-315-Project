{
 "cells": [
  {
   "cell_type": "code",
   "execution_count": 1,
   "id": "226b60b7",
   "metadata": {},
   "outputs": [],
   "source": [
    "import pandas as pd"
   ]
  },
  {
   "cell_type": "code",
   "execution_count": 2,
   "id": "6c277820",
   "metadata": {},
   "outputs": [
    {
     "name": "stdout",
     "output_type": "stream",
     "text": [
      "0             died\n",
      "1       euthanized\n",
      "2            lived\n",
      "3            lived\n",
      "4            lived\n",
      "           ...    \n",
      "1230         lived\n",
      "1231          died\n",
      "1232         lived\n",
      "1233         lived\n",
      "1234         lived\n",
      "Name: outcome, Length: 1235, dtype: object\n"
     ]
    }
   ],
   "source": [
    "data = pd.read_csv('train.csv')\n",
    "y = data.outcome\n",
    "print(y)"
   ]
  },
  {
   "cell_type": "code",
   "execution_count": 3,
   "id": "224ffe08",
   "metadata": {},
   "outputs": [],
   "source": [
    "x = data.drop(['outcome'], axis = 1)"
   ]
  },
  {
   "cell_type": "code",
   "execution_count": 4,
   "id": "c9167b12",
   "metadata": {},
   "outputs": [
    {
     "name": "stdout",
     "output_type": "stream",
     "text": [
      "Handle Missing Values(y/n): y\n"
     ]
    }
   ],
   "source": [
    "from Data_loader import dummy_enc\n",
    "x_en = dummy_enc(x)"
   ]
  },
  {
   "cell_type": "code",
   "execution_count": 5,
   "id": "442396e6",
   "metadata": {},
   "outputs": [],
   "source": [
    "from Data_imputation import mean_imputer\n",
    "x_imp = mean_imputer(x_en)"
   ]
  },
  {
   "cell_type": "code",
   "execution_count": 6,
   "id": "e7dcd1ed",
   "metadata": {},
   "outputs": [],
   "source": [
    "from GridSearch_params import grid_search_rft, split_data\n",
    "x_tr, x_te, y_tr, y_te = split_data(x_imp, y)"
   ]
  },
  {
   "cell_type": "code",
   "execution_count": 7,
   "id": "0942489d",
   "metadata": {},
   "outputs": [
    {
     "name": "stdout",
     "output_type": "stream",
     "text": [
      "(988, 72)\n",
      "(247, 72)\n"
     ]
    }
   ],
   "source": [
    "print(x_tr.shape, x_te.shape, sep = '\\n')"
   ]
  },
  {
   "cell_type": "code",
   "execution_count": null,
   "id": "4f7482d8",
   "metadata": {},
   "outputs": [],
   "source": [
    "grid_search_rft(x_tr, x_te, y_tr, y_te)"
   ]
  }
 ],
 "metadata": {
  "kernelspec": {
   "display_name": "Python 3 (ipykernel)",
   "language": "python",
   "name": "python3"
  },
  "language_info": {
   "codemirror_mode": {
    "name": "ipython",
    "version": 3
   },
   "file_extension": ".py",
   "mimetype": "text/x-python",
   "name": "python",
   "nbconvert_exporter": "python",
   "pygments_lexer": "ipython3",
   "version": "3.11.5"
  }
 },
 "nbformat": 4,
 "nbformat_minor": 5
}
