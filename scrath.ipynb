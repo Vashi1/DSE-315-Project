{
 "cells": [
  {
   "cell_type": "code",
   "execution_count": 1,
   "id": "ced52513",
   "metadata": {
    "ExecuteTime": {
     "end_time": "2023-11-13T05:16:51.064156173Z",
     "start_time": "2023-11-13T05:16:50.594823589Z"
    }
   },
   "outputs": [],
   "source": [
    "import pandas as pd\n",
    "from GridSearch_params import grid_search_svm, grid_search_nb, grid_search_gb"
   ]
  },
  {
   "cell_type": "code",
   "execution_count": 2,
   "id": "9c66f58c",
   "metadata": {
    "ExecuteTime": {
     "end_time": "2023-11-13T05:16:51.072457716Z",
     "start_time": "2023-11-13T05:16:51.065291481Z"
    }
   },
   "outputs": [
    {
     "name": "stdout",
     "output_type": "stream",
     "text": [
      "0             died\n",
      "1       euthanized\n",
      "2            lived\n",
      "3            lived\n",
      "4            lived\n",
      "           ...    \n",
      "1230         lived\n",
      "1231          died\n",
      "1232         lived\n",
      "1233         lived\n",
      "1234         lived\n",
      "Name: outcome, Length: 1235, dtype: object\n"
     ]
    }
   ],
   "source": [
    "data = pd.read_csv('train.csv')\n",
    "y = data.outcome\n",
    "print(y)"
   ]
  },
  {
   "cell_type": "code",
   "execution_count": 3,
   "id": "59ae6e40",
   "metadata": {
    "ExecuteTime": {
     "end_time": "2023-11-13T05:16:51.075654599Z",
     "start_time": "2023-11-13T05:16:51.072165602Z"
    }
   },
   "outputs": [],
   "source": [
    "x = data.drop(['outcome'], axis = 1)"
   ]
  },
  {
   "cell_type": "code",
   "execution_count": 4,
   "id": "bb84b762",
   "metadata": {
    "ExecuteTime": {
     "end_time": "2023-11-13T05:16:52.970779239Z",
     "start_time": "2023-11-13T05:16:51.076439301Z"
    }
   },
   "outputs": [],
   "source": [
    "from Data_loader import dummy_enc\n",
    "x_en = dummy_enc(x)"
   ]
  },
  {
   "cell_type": "code",
   "execution_count": 5,
   "id": "476f2861",
   "metadata": {
    "ExecuteTime": {
     "end_time": "2023-11-13T05:16:52.979040999Z",
     "start_time": "2023-11-13T05:16:52.969029194Z"
    }
   },
   "outputs": [],
   "source": [
    "from Data_imputation import mean_imputer\n",
    "x_imp = mean_imputer(x_en)"
   ]
  },
  {
   "cell_type": "code",
   "execution_count": 6,
   "id": "df212517",
   "metadata": {
    "ExecuteTime": {
     "end_time": "2023-11-13T05:16:52.979640423Z",
     "start_time": "2023-11-13T05:16:52.976936176Z"
    }
   },
   "outputs": [],
   "source": [
    "from GridSearch_params import grid_search_rft, split_data\n",
    "x_tr, x_te, y_tr, y_te = split_data(x_imp, y)"
   ]
  },
  {
   "cell_type": "code",
   "execution_count": 7,
   "id": "01f01264",
   "metadata": {
    "ExecuteTime": {
     "end_time": "2023-11-13T05:16:52.982767163Z",
     "start_time": "2023-11-13T05:16:52.979746291Z"
    }
   },
   "outputs": [
    {
     "name": "stdout",
     "output_type": "stream",
     "text": [
      "(988, 72)\n",
      "(247, 72)\n"
     ]
    }
   ],
   "source": [
    "print(x_tr.shape, x_te.shape, sep = '\\n')"
   ]
  },
  {
   "cell_type": "code",
   "execution_count": 8,
   "id": "9aa80bea",
   "metadata": {
    "ExecuteTime": {
     "end_time": "2023-11-13T05:16:53.025198579Z",
     "start_time": "2023-11-13T05:16:52.982427518Z"
    }
   },
   "outputs": [],
   "source": [
    "# grid_search_rft(x_tr, y_tr)"
   ]
  },
  {
   "cell_type": "code",
   "execution_count": null,
   "id": "c5a39a52",
   "metadata": {
    "is_executing": true,
    "ExecuteTime": {
     "start_time": "2023-11-13T05:16:53.025031111Z"
    }
   },
   "outputs": [],
   "source": [
    "grid_search_svm(x_tr, y_tr)"
   ]
  },
  {
   "cell_type": "code",
   "execution_count": null,
   "outputs": [],
   "source": [
    "grid_search_nb(x_tr, y_tr)"
   ],
   "metadata": {
    "collapsed": false,
    "is_executing": true
   },
   "id": "721f7472c3a2efe2"
  },
  {
   "cell_type": "code",
   "execution_count": null,
   "outputs": [],
   "source": [
    "grid_search_gb(x_tr, y_tr)"
   ],
   "metadata": {
    "collapsed": false,
    "is_executing": true
   },
   "id": "4c471cdff1285e4"
  }
 ],
 "metadata": {
  "kernelspec": {
   "display_name": "Python 3 (ipykernel)",
   "language": "python",
   "name": "python3"
  },
  "language_info": {
   "codemirror_mode": {
    "name": "ipython",
    "version": 3
   },
   "file_extension": ".py",
   "mimetype": "text/x-python",
   "name": "python",
   "nbconvert_exporter": "python",
   "pygments_lexer": "ipython3",
   "version": "3.11.5"
  }
 },
 "nbformat": 4,
 "nbformat_minor": 5
}
