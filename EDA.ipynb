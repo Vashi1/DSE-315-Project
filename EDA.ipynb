{
 "cells": [
  {
   "cell_type": "code",
   "execution_count": 74,
   "id": "initial_id",
   "metadata": {
    "collapsed": true,
    "ExecuteTime": {
     "end_time": "2023-11-05T06:11:44.955512690Z",
     "start_time": "2023-11-05T06:11:44.902779796Z"
    }
   },
   "outputs": [],
   "source": [
    "import pandas as pd\n",
    "import matplotlib.pyplot as plt\n",
    "import seaborn as sns"
   ]
  },
  {
   "cell_type": "code",
   "execution_count": 75,
   "outputs": [],
   "source": [
    "data_train = pd.read_csv(\"train.csv\")\n",
    "data_test = pd.read_csv(\"test.csv\")"
   ],
   "metadata": {
    "collapsed": false,
    "ExecuteTime": {
     "end_time": "2023-11-05T06:11:45.040484183Z",
     "start_time": "2023-11-05T06:11:44.914058535Z"
    }
   },
   "id": "ed7379b042d91fd7"
  },
  {
   "cell_type": "markdown",
   "source": [
    "*Exploring the Train Dataset*"
   ],
   "metadata": {
    "collapsed": false
   },
   "id": "d1c7ecef4faceb33"
  },
  {
   "cell_type": "code",
   "execution_count": 76,
   "outputs": [
    {
     "data": {
      "text/plain": "   id surgery    age  hospital_number  rectal_temp  pulse  respiratory_rate  \\\n0   0     yes  adult           530001         38.1  132.0              24.0   \n1   1     yes  adult           533836         37.5   88.0              12.0   \n2   2     yes  adult           529812         38.3  120.0              28.0   \n3   3     yes  adult          5262541         37.1   72.0              30.0   \n4   4      no  adult          5299629         38.0   52.0              48.0   \n\n  temp_of_extremities peripheral_pulse mucous_membrane  ...  \\\n0                cool          reduced   dark_cyanotic  ...   \n1                cool           normal   pale_cyanotic  ...   \n2                cool          reduced       pale_pink  ...   \n3                cold          reduced       pale_pink  ...   \n4              normal           normal     normal_pink  ...   \n\n  packed_cell_volume total_protein abdomo_appearance abdomo_protein  \\\n0               57.0           8.5     serosanguious            3.4   \n1               33.0          64.0     serosanguious            2.0   \n2               37.0           6.4     serosanguious            3.4   \n3               53.0           7.0            cloudy            3.9   \n4               47.0           7.3            cloudy            2.6   \n\n  surgical_lesion lesion_1  lesion_2 lesion_3 cp_data     outcome  \n0             yes     2209         0        0      no        died  \n1             yes     2208         0        0      no  euthanized  \n2             yes     5124         0        0      no       lived  \n3             yes     2208         0        0     yes       lived  \n4              no        0         0        0     yes       lived  \n\n[5 rows x 29 columns]",
      "text/html": "<div>\n<style scoped>\n    .dataframe tbody tr th:only-of-type {\n        vertical-align: middle;\n    }\n\n    .dataframe tbody tr th {\n        vertical-align: top;\n    }\n\n    .dataframe thead th {\n        text-align: right;\n    }\n</style>\n<table border=\"1\" class=\"dataframe\">\n  <thead>\n    <tr style=\"text-align: right;\">\n      <th></th>\n      <th>id</th>\n      <th>surgery</th>\n      <th>age</th>\n      <th>hospital_number</th>\n      <th>rectal_temp</th>\n      <th>pulse</th>\n      <th>respiratory_rate</th>\n      <th>temp_of_extremities</th>\n      <th>peripheral_pulse</th>\n      <th>mucous_membrane</th>\n      <th>...</th>\n      <th>packed_cell_volume</th>\n      <th>total_protein</th>\n      <th>abdomo_appearance</th>\n      <th>abdomo_protein</th>\n      <th>surgical_lesion</th>\n      <th>lesion_1</th>\n      <th>lesion_2</th>\n      <th>lesion_3</th>\n      <th>cp_data</th>\n      <th>outcome</th>\n    </tr>\n  </thead>\n  <tbody>\n    <tr>\n      <th>0</th>\n      <td>0</td>\n      <td>yes</td>\n      <td>adult</td>\n      <td>530001</td>\n      <td>38.1</td>\n      <td>132.0</td>\n      <td>24.0</td>\n      <td>cool</td>\n      <td>reduced</td>\n      <td>dark_cyanotic</td>\n      <td>...</td>\n      <td>57.0</td>\n      <td>8.5</td>\n      <td>serosanguious</td>\n      <td>3.4</td>\n      <td>yes</td>\n      <td>2209</td>\n      <td>0</td>\n      <td>0</td>\n      <td>no</td>\n      <td>died</td>\n    </tr>\n    <tr>\n      <th>1</th>\n      <td>1</td>\n      <td>yes</td>\n      <td>adult</td>\n      <td>533836</td>\n      <td>37.5</td>\n      <td>88.0</td>\n      <td>12.0</td>\n      <td>cool</td>\n      <td>normal</td>\n      <td>pale_cyanotic</td>\n      <td>...</td>\n      <td>33.0</td>\n      <td>64.0</td>\n      <td>serosanguious</td>\n      <td>2.0</td>\n      <td>yes</td>\n      <td>2208</td>\n      <td>0</td>\n      <td>0</td>\n      <td>no</td>\n      <td>euthanized</td>\n    </tr>\n    <tr>\n      <th>2</th>\n      <td>2</td>\n      <td>yes</td>\n      <td>adult</td>\n      <td>529812</td>\n      <td>38.3</td>\n      <td>120.0</td>\n      <td>28.0</td>\n      <td>cool</td>\n      <td>reduced</td>\n      <td>pale_pink</td>\n      <td>...</td>\n      <td>37.0</td>\n      <td>6.4</td>\n      <td>serosanguious</td>\n      <td>3.4</td>\n      <td>yes</td>\n      <td>5124</td>\n      <td>0</td>\n      <td>0</td>\n      <td>no</td>\n      <td>lived</td>\n    </tr>\n    <tr>\n      <th>3</th>\n      <td>3</td>\n      <td>yes</td>\n      <td>adult</td>\n      <td>5262541</td>\n      <td>37.1</td>\n      <td>72.0</td>\n      <td>30.0</td>\n      <td>cold</td>\n      <td>reduced</td>\n      <td>pale_pink</td>\n      <td>...</td>\n      <td>53.0</td>\n      <td>7.0</td>\n      <td>cloudy</td>\n      <td>3.9</td>\n      <td>yes</td>\n      <td>2208</td>\n      <td>0</td>\n      <td>0</td>\n      <td>yes</td>\n      <td>lived</td>\n    </tr>\n    <tr>\n      <th>4</th>\n      <td>4</td>\n      <td>no</td>\n      <td>adult</td>\n      <td>5299629</td>\n      <td>38.0</td>\n      <td>52.0</td>\n      <td>48.0</td>\n      <td>normal</td>\n      <td>normal</td>\n      <td>normal_pink</td>\n      <td>...</td>\n      <td>47.0</td>\n      <td>7.3</td>\n      <td>cloudy</td>\n      <td>2.6</td>\n      <td>no</td>\n      <td>0</td>\n      <td>0</td>\n      <td>0</td>\n      <td>yes</td>\n      <td>lived</td>\n    </tr>\n  </tbody>\n</table>\n<p>5 rows × 29 columns</p>\n</div>"
     },
     "execution_count": 76,
     "metadata": {},
     "output_type": "execute_result"
    }
   ],
   "source": [
    "data_train.head()"
   ],
   "metadata": {
    "collapsed": false,
    "ExecuteTime": {
     "end_time": "2023-11-05T06:11:45.042477243Z",
     "start_time": "2023-11-05T06:11:45.002615050Z"
    }
   },
   "id": "2f47e35870d1cef"
  },
  {
   "cell_type": "code",
   "execution_count": 77,
   "outputs": [
    {
     "data": {
      "text/plain": "              id  hospital_number  rectal_temp        pulse  respiratory_rate  \\\ncount  1235.0000     1.235000e+03  1235.000000  1235.000000       1235.000000   \nmean    617.0000     9.545004e+05    38.202186    79.574089         30.054251   \nstd     356.6581     1.356403e+06     0.788668    29.108638         16.452066   \nmin       0.0000     5.213990e+05    35.400000    30.000000          8.000000   \n25%     308.5000     5.288000e+05    37.800000    53.000000         18.000000   \n50%     617.0000     5.297770e+05    38.200000    76.000000         28.000000   \n75%     925.5000     5.341450e+05    38.600000   100.000000         36.000000   \nmax    1234.0000     5.305129e+06    40.800000   184.000000         96.000000   \n\n       nasogastric_reflux_ph  packed_cell_volume  total_protein  \\\ncount            1235.000000         1235.000000    1235.000000   \nmean                4.382591           49.602429      21.388016   \nstd                 1.937357           10.535800      26.676453   \nmin                 1.000000           23.000000       3.500000   \n25%                 2.000000           43.000000       6.600000   \n50%                 4.500000           48.000000       7.500000   \n75%                 6.000000           57.000000       9.100000   \nmax                 7.500000           75.000000      89.000000   \n\n       abdomo_protein      lesion_1     lesion_2     lesion_3  \ncount     1235.000000   1235.000000  1235.000000  1235.000000  \nmean         3.290931   3832.496356    14.612146     3.577328  \nstd          1.589195   5436.733774   193.705735    88.858953  \nmin          0.100000      0.000000     0.000000     0.000000  \n25%          2.000000   2205.000000     0.000000     0.000000  \n50%          3.000000   2209.000000     0.000000     0.000000  \n75%          4.300000   3205.000000     0.000000     0.000000  \nmax         10.100000  41110.000000  3112.000000  2209.000000  ",
      "text/html": "<div>\n<style scoped>\n    .dataframe tbody tr th:only-of-type {\n        vertical-align: middle;\n    }\n\n    .dataframe tbody tr th {\n        vertical-align: top;\n    }\n\n    .dataframe thead th {\n        text-align: right;\n    }\n</style>\n<table border=\"1\" class=\"dataframe\">\n  <thead>\n    <tr style=\"text-align: right;\">\n      <th></th>\n      <th>id</th>\n      <th>hospital_number</th>\n      <th>rectal_temp</th>\n      <th>pulse</th>\n      <th>respiratory_rate</th>\n      <th>nasogastric_reflux_ph</th>\n      <th>packed_cell_volume</th>\n      <th>total_protein</th>\n      <th>abdomo_protein</th>\n      <th>lesion_1</th>\n      <th>lesion_2</th>\n      <th>lesion_3</th>\n    </tr>\n  </thead>\n  <tbody>\n    <tr>\n      <th>count</th>\n      <td>1235.0000</td>\n      <td>1.235000e+03</td>\n      <td>1235.000000</td>\n      <td>1235.000000</td>\n      <td>1235.000000</td>\n      <td>1235.000000</td>\n      <td>1235.000000</td>\n      <td>1235.000000</td>\n      <td>1235.000000</td>\n      <td>1235.000000</td>\n      <td>1235.000000</td>\n      <td>1235.000000</td>\n    </tr>\n    <tr>\n      <th>mean</th>\n      <td>617.0000</td>\n      <td>9.545004e+05</td>\n      <td>38.202186</td>\n      <td>79.574089</td>\n      <td>30.054251</td>\n      <td>4.382591</td>\n      <td>49.602429</td>\n      <td>21.388016</td>\n      <td>3.290931</td>\n      <td>3832.496356</td>\n      <td>14.612146</td>\n      <td>3.577328</td>\n    </tr>\n    <tr>\n      <th>std</th>\n      <td>356.6581</td>\n      <td>1.356403e+06</td>\n      <td>0.788668</td>\n      <td>29.108638</td>\n      <td>16.452066</td>\n      <td>1.937357</td>\n      <td>10.535800</td>\n      <td>26.676453</td>\n      <td>1.589195</td>\n      <td>5436.733774</td>\n      <td>193.705735</td>\n      <td>88.858953</td>\n    </tr>\n    <tr>\n      <th>min</th>\n      <td>0.0000</td>\n      <td>5.213990e+05</td>\n      <td>35.400000</td>\n      <td>30.000000</td>\n      <td>8.000000</td>\n      <td>1.000000</td>\n      <td>23.000000</td>\n      <td>3.500000</td>\n      <td>0.100000</td>\n      <td>0.000000</td>\n      <td>0.000000</td>\n      <td>0.000000</td>\n    </tr>\n    <tr>\n      <th>25%</th>\n      <td>308.5000</td>\n      <td>5.288000e+05</td>\n      <td>37.800000</td>\n      <td>53.000000</td>\n      <td>18.000000</td>\n      <td>2.000000</td>\n      <td>43.000000</td>\n      <td>6.600000</td>\n      <td>2.000000</td>\n      <td>2205.000000</td>\n      <td>0.000000</td>\n      <td>0.000000</td>\n    </tr>\n    <tr>\n      <th>50%</th>\n      <td>617.0000</td>\n      <td>5.297770e+05</td>\n      <td>38.200000</td>\n      <td>76.000000</td>\n      <td>28.000000</td>\n      <td>4.500000</td>\n      <td>48.000000</td>\n      <td>7.500000</td>\n      <td>3.000000</td>\n      <td>2209.000000</td>\n      <td>0.000000</td>\n      <td>0.000000</td>\n    </tr>\n    <tr>\n      <th>75%</th>\n      <td>925.5000</td>\n      <td>5.341450e+05</td>\n      <td>38.600000</td>\n      <td>100.000000</td>\n      <td>36.000000</td>\n      <td>6.000000</td>\n      <td>57.000000</td>\n      <td>9.100000</td>\n      <td>4.300000</td>\n      <td>3205.000000</td>\n      <td>0.000000</td>\n      <td>0.000000</td>\n    </tr>\n    <tr>\n      <th>max</th>\n      <td>1234.0000</td>\n      <td>5.305129e+06</td>\n      <td>40.800000</td>\n      <td>184.000000</td>\n      <td>96.000000</td>\n      <td>7.500000</td>\n      <td>75.000000</td>\n      <td>89.000000</td>\n      <td>10.100000</td>\n      <td>41110.000000</td>\n      <td>3112.000000</td>\n      <td>2209.000000</td>\n    </tr>\n  </tbody>\n</table>\n</div>"
     },
     "execution_count": 77,
     "metadata": {},
     "output_type": "execute_result"
    }
   ],
   "source": [
    "data_train.describe()"
   ],
   "metadata": {
    "collapsed": false,
    "ExecuteTime": {
     "end_time": "2023-11-05T06:11:45.044034774Z",
     "start_time": "2023-11-05T06:11:45.003007279Z"
    }
   },
   "id": "7ac59aae288bdf1c"
  },
  {
   "cell_type": "code",
   "execution_count": 78,
   "outputs": [
    {
     "name": "stdout",
     "output_type": "stream",
     "text": [
      "<class 'pandas.core.frame.DataFrame'>\n",
      "RangeIndex: 1235 entries, 0 to 1234\n",
      "Data columns (total 29 columns):\n",
      " #   Column                 Non-Null Count  Dtype  \n",
      "---  ------                 --------------  -----  \n",
      " 0   id                     1235 non-null   int64  \n",
      " 1   surgery                1235 non-null   object \n",
      " 2   age                    1235 non-null   object \n",
      " 3   hospital_number        1235 non-null   int64  \n",
      " 4   rectal_temp            1235 non-null   float64\n",
      " 5   pulse                  1235 non-null   float64\n",
      " 6   respiratory_rate       1235 non-null   float64\n",
      " 7   temp_of_extremities    1196 non-null   object \n",
      " 8   peripheral_pulse       1175 non-null   object \n",
      " 9   mucous_membrane        1214 non-null   object \n",
      " 10  capillary_refill_time  1229 non-null   object \n",
      " 11  pain                   1191 non-null   object \n",
      " 12  peristalsis            1215 non-null   object \n",
      " 13  abdominal_distention   1212 non-null   object \n",
      " 14  nasogastric_tube       1155 non-null   object \n",
      " 15  nasogastric_reflux     1214 non-null   object \n",
      " 16  nasogastric_reflux_ph  1235 non-null   float64\n",
      " 17  rectal_exam_feces      1045 non-null   object \n",
      " 18  abdomen                1022 non-null   object \n",
      " 19  packed_cell_volume     1235 non-null   float64\n",
      " 20  total_protein          1235 non-null   float64\n",
      " 21  abdomo_appearance      1187 non-null   object \n",
      " 22  abdomo_protein         1235 non-null   float64\n",
      " 23  surgical_lesion        1235 non-null   object \n",
      " 24  lesion_1               1235 non-null   int64  \n",
      " 25  lesion_2               1235 non-null   int64  \n",
      " 26  lesion_3               1235 non-null   int64  \n",
      " 27  cp_data                1235 non-null   object \n",
      " 28  outcome                1235 non-null   object \n",
      "dtypes: float64(7), int64(5), object(17)\n",
      "memory usage: 279.9+ KB\n"
     ]
    }
   ],
   "source": [
    "data_train.info()"
   ],
   "metadata": {
    "collapsed": false,
    "ExecuteTime": {
     "end_time": "2023-11-05T06:11:45.152543757Z",
     "start_time": "2023-11-05T06:11:45.031062244Z"
    }
   },
   "id": "fe1a8ff02aff3101"
  },
  {
   "cell_type": "code",
   "execution_count": 79,
   "outputs": [
    {
     "data": {
      "text/plain": "id                         0\nsurgery                    0\nage                        0\nhospital_number            0\nrectal_temp                0\npulse                      0\nrespiratory_rate           0\ntemp_of_extremities       39\nperipheral_pulse          60\nmucous_membrane           21\ncapillary_refill_time      6\npain                      44\nperistalsis               20\nabdominal_distention      23\nnasogastric_tube          80\nnasogastric_reflux        21\nnasogastric_reflux_ph      0\nrectal_exam_feces        190\nabdomen                  213\npacked_cell_volume         0\ntotal_protein              0\nabdomo_appearance         48\nabdomo_protein             0\nsurgical_lesion            0\nlesion_1                   0\nlesion_2                   0\nlesion_3                   0\ncp_data                    0\noutcome                    0\ndtype: int64"
     },
     "execution_count": 79,
     "metadata": {},
     "output_type": "execute_result"
    }
   ],
   "source": [
    "data_train.isna().sum()"
   ],
   "metadata": {
    "collapsed": false,
    "ExecuteTime": {
     "end_time": "2023-11-05T06:11:45.227220015Z",
     "start_time": "2023-11-05T06:11:45.078638128Z"
    }
   },
   "id": "584193b988a96bfd"
  },
  {
   "cell_type": "markdown",
   "source": [
    "*The Training Data has missing values*"
   ],
   "metadata": {
    "collapsed": false
   },
   "id": "26c364273f644a22"
  },
  {
   "cell_type": "code",
   "execution_count": 80,
   "outputs": [
    {
     "data": {
      "text/plain": "<Figure size 640x480 with 1 Axes>",
      "image/png": "[encoded data removed]"
     },
     "metadata": {},
     "output_type": "display_data"
    }
   ],
   "source": [
    "data_train['outcome'].hist()\n",
    "plt.show()"
   ],
   "metadata": {
    "collapsed": false,
    "ExecuteTime": {
     "end_time": "2023-11-05T06:11:45.464678291Z",
     "start_time": "2023-11-05T06:11:45.119475585Z"
    }
   },
   "id": "521b51b72265c206"
  },
  {
   "cell_type": "markdown",
   "source": [
    "*The Training Data is Balanced*"
   ],
   "metadata": {
    "collapsed": false
   },
   "id": "54614e61039bb512"
  },
  {
   "cell_type": "code",
   "execution_count": 81,
   "outputs": [
    {
     "name": "stdout",
     "output_type": "stream",
     "text": [
      "The Columns are in the dataset are:\n",
      "id\n",
      "surgery\n",
      "age\n",
      "hospital_number\n",
      "rectal_temp\n",
      "pulse\n",
      "respiratory_rate\n",
      "temp_of_extremities\n",
      "peripheral_pulse\n",
      "mucous_membrane\n",
      "capillary_refill_time\n",
      "pain\n",
      "peristalsis\n",
      "abdominal_distention\n",
      "nasogastric_tube\n",
      "nasogastric_reflux\n",
      "nasogastric_reflux_ph\n",
      "rectal_exam_feces\n",
      "abdomen\n",
      "packed_cell_volume\n",
      "total_protein\n",
      "abdomo_appearance\n",
      "abdomo_protein\n",
      "surgical_lesion\n",
      "lesion_1\n",
      "lesion_2\n",
      "lesion_3\n",
      "cp_data\n",
      "outcome\n"
     ]
    }
   ],
   "source": [
    "print(\"The Columns are in the dataset are:\")\n",
    "for i in list(data_train.columns):\n",
    "    print(i)"
   ],
   "metadata": {
    "collapsed": false,
    "ExecuteTime": {
     "end_time": "2023-11-05T06:11:45.465165225Z",
     "start_time": "2023-11-05T06:11:45.449950161Z"
    }
   },
   "id": "6badf6d7ce88dee4"
  },
  {
   "cell_type": "markdown",
   "source": [
    "*Printing Unique values in each column* "
   ],
   "metadata": {
    "collapsed": false
   },
   "id": "aed3f190c39d87fa"
  },
  {
   "cell_type": "code",
   "execution_count": 82,
   "outputs": [
    {
     "name": "stdout",
     "output_type": "stream",
     "text": [
      "The unique values in  id\n",
      "[   0    1    2 ... 1232 1233 1234]\n",
      "\n",
      "\n",
      "\n",
      "\n",
      "The unique values in  surgery\n",
      "['yes' 'no']\n",
      "\n",
      "\n",
      "\n",
      "\n",
      "The unique values in  age\n",
      "['adult' 'young']\n",
      "\n",
      "\n",
      "\n",
      "\n",
      "The unique values in  hospital_number\n",
      "[ 530001  533836  529812 5262541 5299629  529642  534787  529461  528742\n",
      "  529640  528682  530028  528548  528134  528305  534885 5290482 5279822\n",
      "  533692  535208  528523  529893  534145  530233  529399  530354  528503\n",
      "  529796  527916  530360  528298  533871  529388  527563  534163  529827\n",
      "  535196  535176  529045  527518  527463  529172  528996  533887  528904\n",
      "  535407  533902  523190  534073  534135 5290409  529160  534917  534784\n",
      " 5299253  534004  534115  529667 5297159  529427  527677  530612  535415\n",
      "  530561  530242  530002 5289419  529498  529126 5291409 5287179  530526\n",
      " 5290759  532110  534293  534280  528214  527933 5283431  528743  529766\n",
      "  529304  530401  527702  529849  534157  534998  529340  530276  527927\n",
      "  534886  527365  528641  528461  528469  529607  533942  529272  528183\n",
      "  533696  528247  535043  530034  534925  530402  535292  529493  528355\n",
      "  534197  530239  529777  530478  534069  533928  528570  528800  528668\n",
      "  530693  528179  528151  530254  528890  534644  530255  529663  535031\n",
      "  534403  528804  528872  528702  535166  535330  528729  529888  529475\n",
      " 5294539  533750  530334  535130  530439  534624  529628  530366  526639\n",
      " 5301219  529703  528178  527734  529840  534753  534963 5291329  533885\n",
      "  529518 5297379  534519  521399  529685  529183  530301  527544  527709\n",
      " 5294369  528248  527758  535085  534933  529428  533847  530251  533738\n",
      "  527706  527698  529865  529373  534579  528620  529135  527526  529424\n",
      "  528630  528006  530310  526802  535029  532985  534183  528299  534092\n",
      "  530544  534788  530381  534324  530384  527957  533723  535163  522979\n",
      "  528931  534756  535158  530670 5290481  527883  534053  530170 5291719\n",
      "  534556  529736  533736  534626  534478 5290402  534938 5288249  535240\n",
      "  530431 5292489  529386  535381  535137  533968  532349  535338  528019\n",
      "  529483  529821  528812  535054  529729 5299603  535392  533886  534817\n",
      "  529528  534130  529764  530101  533983  528113  527524 5279442 5275212\n",
      "  530297 5287279 5305129  530624  535246  527829  528653 5278331 5282839\n",
      "  534857  534491  530157]\n",
      "\n",
      "\n",
      "\n",
      "\n",
      "The unique values in  rectal_temp\n",
      "[38.1 37.5 38.3 37.1 38.  39.2 37.4 39.3 37.8 38.8 38.7 37.6 39.1 39.4\n",
      " 40.3 38.5 37.2 38.2 38.4 37.7 36.1 38.6 37.9 38.9 36.5 37.3 39.5 36.8\n",
      " 36.  35.4 39.  39.6 36.4 39.8 40.8 37.  39.7 36.6 36.7 36.9 39.9 36.2\n",
      " 40. ]\n",
      "\n",
      "\n",
      "\n",
      "\n",
      "The unique values in  pulse\n",
      "[132.  88. 120.  72.  52.  56.  36. 114.  48. 129.  84. 164.  66. 124.\n",
      "  44.  60.  96.  70.  92.  64.  80.  68. 140. 130. 108.  30. 100. 104.\n",
      "  76. 146.  54.  50.  42.  40. 150.  45. 136.  86. 112.  90.  78.  49.\n",
      " 128. 184.  98.  75.  82. 160.  46. 110.]\n",
      "\n",
      "\n",
      "\n",
      "\n",
      "The unique values in  respiratory_rate\n",
      "[24. 12. 28. 30. 48. 32. 16. 36. 88. 20. 40. 96. 68. 18. 14. 35. 51. 13.\n",
      " 21. 84. 50.  9. 80. 44.  8. 42. 90. 60. 58. 22. 25. 10. 26. 70. 66. 52.\n",
      " 23.]\n",
      "\n",
      "\n",
      "\n",
      "\n",
      "The unique values in  temp_of_extremities\n",
      "['cool' 'cold' 'normal' 'warm' nan]\n",
      "\n",
      "\n",
      "\n",
      "\n",
      "The unique values in  peripheral_pulse\n",
      "['reduced' 'normal' nan 'absent' 'increased']\n",
      "\n",
      "\n",
      "\n",
      "\n",
      "The unique values in  mucous_membrane\n",
      "['dark_cyanotic' 'pale_cyanotic' 'pale_pink' 'normal_pink' 'bright_pink'\n",
      " 'bright_red' nan]\n",
      "\n",
      "\n",
      "\n",
      "\n",
      "The unique values in  capillary_refill_time\n",
      "['more_3_sec' 'less_3_sec' nan '3']\n",
      "\n",
      "\n",
      "\n",
      "\n",
      "The unique values in  pain\n",
      "['depressed' 'mild_pain' 'extreme_pain' 'alert' 'severe_pain' nan 'slight']\n",
      "\n",
      "\n",
      "\n",
      "\n",
      "The unique values in  peristalsis\n",
      "['absent' 'hypomotile' 'normal' 'hypermotile' nan 'distend_small']\n",
      "\n",
      "\n",
      "\n",
      "\n",
      "The unique values in  abdominal_distention\n",
      "['slight' 'moderate' 'none' 'severe' nan]\n",
      "\n",
      "\n",
      "\n",
      "\n",
      "The unique values in  nasogastric_tube\n",
      "['slight' 'none' 'significant' nan]\n",
      "\n",
      "\n",
      "\n",
      "\n",
      "The unique values in  nasogastric_reflux\n",
      "['less_1_liter' 'more_1_liter' 'none' nan 'slight']\n",
      "\n",
      "\n",
      "\n",
      "\n",
      "The unique values in  nasogastric_reflux_ph\n",
      "[6.5 2.  3.5 7.  5.  4.5 4.4 5.3 6.  3.  7.5 5.5 5.7 1.  4.  5.4 7.2 6.2\n",
      " 5.2 4.3 1.5 6.8 4.2 3.4 2.6 6.6]\n",
      "\n",
      "\n",
      "\n",
      "\n",
      "The unique values in  rectal_exam_feces\n",
      "['decreased' 'absent' nan 'normal' 'increased' 'serosanguious']\n",
      "\n",
      "\n",
      "\n",
      "\n",
      "The unique values in  abdomen\n",
      "['distend_small' 'distend_large' 'normal' 'firm' nan 'other']\n",
      "\n",
      "\n",
      "\n",
      "\n",
      "The unique values in  packed_cell_volume\n",
      "[57.  33.  37.  53.  47.  49.  43.  40.  46.  65.  44.  60.  39.  52.\n",
      " 72.  35.  66.  34.  45.  59.  48.  73.  31.5 54.  30.  55.  64.  50.\n",
      " 69.  36.  42.  68.  41.  75.  38.  51.  37.5 23.  63.  26.  28.  71.\n",
      " 58.  56.  32.  31.  74.  67.  70. ]\n",
      "\n",
      "\n",
      "\n",
      "\n",
      "The unique values in  total_protein\n",
      "[ 8.5 64.   6.4  7.   7.3  8.  75.   7.6  7.8  4.9  7.5  6.7  7.4 13.\n",
      "  6.5  6.8  8.4 53.  65.   6.1 66.   4.6  5.3  8.6 67.   6.   7.2  8.1\n",
      " 70.  85.  60.  82.   6.6  4.5  6.2 81.  62.   8.2  7.7 74.   5.9  3.9\n",
      " 86.   4.  77.   5.5  5.7 11.   9.1 46.  69.   8.9 57.  51.  56.   8.7\n",
      " 10.2 80.  61.  54.   9.  71.   8.3  6.3 55.  89.   7.9 68.   3.7  6.9\n",
      "  8.8 11.2 50.   3.5  5.8  4.3  5.  84.   4.7 63.   7.1 72.  58. ]\n",
      "\n",
      "\n",
      "\n",
      "\n",
      "The unique values in  abdomo_appearance\n",
      "['serosanguious' 'cloudy' 'clear' nan]\n",
      "\n",
      "\n",
      "\n",
      "\n",
      "The unique values in  abdomo_protein\n",
      "[ 3.4  2.   3.9  2.6  2.8  1.   4.5  2.9  3.6  6.6  3.3  4.1  5.3  3.7\n",
      "  1.3  1.4  2.5  5.   0.1  3.2  1.5  4.4  3.   2.3  7.4  4.3  4.7  4.8\n",
      "  6.   6.5  2.2  7.   1.6  5.2  2.7  5.4  3.5  2.1  4.6  7.6 10.1  1.7\n",
      "  8.   8.1  7.2  6.3  4.2  4.9  7.5 10.   2.4  6.2  9.1  4. ]\n",
      "\n",
      "\n",
      "\n",
      "\n",
      "The unique values in  surgical_lesion\n",
      "['yes' 'no']\n",
      "\n",
      "\n",
      "\n",
      "\n",
      "The unique values in  lesion_1\n",
      "[ 2209  2208  5124     0  3111  2207  3209  3205  2124  2206 31110  2205\n",
      "  7111  3207  4206  2113  3113  2112  4205  8300  1400  5400  7209  3115\n",
      " 11124  4207  9400   300  2111  3300  3112   400  2300  2322  3133  4300\n",
      "  3025  8400  1111  5206 11300  4124 12208  6112  7400  5000  5205  2202\n",
      "  3124  5111  6209 11400  6111  2305 21110  1124 41110]\n",
      "\n",
      "\n",
      "\n",
      "\n",
      "The unique values in  lesion_2\n",
      "[   0 1400 3111 3112]\n",
      "\n",
      "\n",
      "\n",
      "\n",
      "The unique values in  lesion_3\n",
      "[   0 2209]\n",
      "\n",
      "\n",
      "\n",
      "\n",
      "The unique values in  cp_data\n",
      "['no' 'yes']\n",
      "\n",
      "\n",
      "\n",
      "\n",
      "The unique values in  outcome\n",
      "['died' 'euthanized' 'lived']\n",
      "\n",
      "\n",
      "\n"
     ]
    }
   ],
   "source": [
    "for i in list(data_train.columns):\n",
    "    print(\"The unique values in \", i)\n",
    "    print(data_train[i].unique())\n",
    "    print('\\n\\n\\n')"
   ],
   "metadata": {
    "collapsed": false,
    "ExecuteTime": {
     "end_time": "2023-11-05T06:11:45.527832414Z",
     "start_time": "2023-11-05T06:11:45.458661674Z"
    }
   },
   "id": "b49ecbbe0750228c"
  },
  {
   "cell_type": "markdown",
   "source": [
    "*Viewing the Test Data*"
   ],
   "metadata": {
    "collapsed": false
   },
   "id": "cf6273b1aeffe755"
  },
  {
   "cell_type": "code",
   "execution_count": 83,
   "outputs": [
    {
     "data": {
      "text/plain": "     id surgery    age  hospital_number  rectal_temp  pulse  respiratory_rate  \\\n0  1235      no  adult           534053         38.6   40.0              20.0   \n1  1236     yes  adult           528469         38.2  112.0              48.0   \n2  1237     yes  adult           528178         37.7   66.0              12.0   \n3  1238      no  adult           534784         37.1   88.0              20.0   \n4  1239     yes  adult           529840         38.3   50.0              12.0   \n\n  temp_of_extremities peripheral_pulse mucous_membrane  ...        abdomen  \\\n0              normal           normal     normal_pink  ...  distend_small   \n1                cool          reduced     bright_pink  ...  distend_small   \n2                cool           normal      bright_red  ...  distend_small   \n3                cool          reduced   pale_cyanotic  ...  distend_large   \n4                 NaN           normal     bright_pink  ...  distend_small   \n\n  packed_cell_volume total_protein abdomo_appearance abdomo_protein  \\\n0               42.0           7.5             clear            2.3   \n1               44.0           6.0     serosanguious            2.6   \n2               31.5           6.0            cloudy            1.6   \n3               75.0          81.0               NaN            1.0   \n4               37.0           6.8            cloudy            2.6   \n\n  surgical_lesion  lesion_1 lesion_2 lesion_3  cp_data  \n0              no         0        0        0       no  \n1              no      2208        0        0      yes  \n2             yes      2205        0        0      yes  \n3             yes      1400        0        0       no  \n4             yes      2208        0        0      yes  \n\n[5 rows x 28 columns]",
      "text/html": "<div>\n<style scoped>\n    .dataframe tbody tr th:only-of-type {\n        vertical-align: middle;\n    }\n\n    .dataframe tbody tr th {\n        vertical-align: top;\n    }\n\n    .dataframe thead th {\n        text-align: right;\n    }\n</style>\n<table border=\"1\" class=\"dataframe\">\n  <thead>\n    <tr style=\"text-align: right;\">\n      <th></th>\n      <th>id</th>\n      <th>surgery</th>\n      <th>age</th>\n      <th>hospital_number</th>\n      <th>rectal_temp</th>\n      <th>pulse</th>\n      <th>respiratory_rate</th>\n      <th>temp_of_extremities</th>\n      <th>peripheral_pulse</th>\n      <th>mucous_membrane</th>\n      <th>...</th>\n      <th>abdomen</th>\n      <th>packed_cell_volume</th>\n      <th>total_protein</th>\n      <th>abdomo_appearance</th>\n      <th>abdomo_protein</th>\n      <th>surgical_lesion</th>\n      <th>lesion_1</th>\n      <th>lesion_2</th>\n      <th>lesion_3</th>\n      <th>cp_data</th>\n    </tr>\n  </thead>\n  <tbody>\n    <tr>\n      <th>0</th>\n      <td>1235</td>\n      <td>no</td>\n      <td>adult</td>\n      <td>534053</td>\n      <td>38.6</td>\n      <td>40.0</td>\n      <td>20.0</td>\n      <td>normal</td>\n      <td>normal</td>\n      <td>normal_pink</td>\n      <td>...</td>\n      <td>distend_small</td>\n      <td>42.0</td>\n      <td>7.5</td>\n      <td>clear</td>\n      <td>2.3</td>\n      <td>no</td>\n      <td>0</td>\n      <td>0</td>\n      <td>0</td>\n      <td>no</td>\n    </tr>\n    <tr>\n      <th>1</th>\n      <td>1236</td>\n      <td>yes</td>\n      <td>adult</td>\n      <td>528469</td>\n      <td>38.2</td>\n      <td>112.0</td>\n      <td>48.0</td>\n      <td>cool</td>\n      <td>reduced</td>\n      <td>bright_pink</td>\n      <td>...</td>\n      <td>distend_small</td>\n      <td>44.0</td>\n      <td>6.0</td>\n      <td>serosanguious</td>\n      <td>2.6</td>\n      <td>no</td>\n      <td>2208</td>\n      <td>0</td>\n      <td>0</td>\n      <td>yes</td>\n    </tr>\n    <tr>\n      <th>2</th>\n      <td>1237</td>\n      <td>yes</td>\n      <td>adult</td>\n      <td>528178</td>\n      <td>37.7</td>\n      <td>66.0</td>\n      <td>12.0</td>\n      <td>cool</td>\n      <td>normal</td>\n      <td>bright_red</td>\n      <td>...</td>\n      <td>distend_small</td>\n      <td>31.5</td>\n      <td>6.0</td>\n      <td>cloudy</td>\n      <td>1.6</td>\n      <td>yes</td>\n      <td>2205</td>\n      <td>0</td>\n      <td>0</td>\n      <td>yes</td>\n    </tr>\n    <tr>\n      <th>3</th>\n      <td>1238</td>\n      <td>no</td>\n      <td>adult</td>\n      <td>534784</td>\n      <td>37.1</td>\n      <td>88.0</td>\n      <td>20.0</td>\n      <td>cool</td>\n      <td>reduced</td>\n      <td>pale_cyanotic</td>\n      <td>...</td>\n      <td>distend_large</td>\n      <td>75.0</td>\n      <td>81.0</td>\n      <td>NaN</td>\n      <td>1.0</td>\n      <td>yes</td>\n      <td>1400</td>\n      <td>0</td>\n      <td>0</td>\n      <td>no</td>\n    </tr>\n    <tr>\n      <th>4</th>\n      <td>1239</td>\n      <td>yes</td>\n      <td>adult</td>\n      <td>529840</td>\n      <td>38.3</td>\n      <td>50.0</td>\n      <td>12.0</td>\n      <td>NaN</td>\n      <td>normal</td>\n      <td>bright_pink</td>\n      <td>...</td>\n      <td>distend_small</td>\n      <td>37.0</td>\n      <td>6.8</td>\n      <td>cloudy</td>\n      <td>2.6</td>\n      <td>yes</td>\n      <td>2208</td>\n      <td>0</td>\n      <td>0</td>\n      <td>yes</td>\n    </tr>\n  </tbody>\n</table>\n<p>5 rows × 28 columns</p>\n</div>"
     },
     "execution_count": 83,
     "metadata": {},
     "output_type": "execute_result"
    }
   ],
   "source": [
    "data_test.head()"
   ],
   "metadata": {
    "collapsed": false,
    "ExecuteTime": {
     "end_time": "2023-11-05T06:11:45.528867043Z",
     "start_time": "2023-11-05T06:11:45.494757955Z"
    }
   },
   "id": "c15666d73cde19f6"
  },
  {
   "cell_type": "code",
   "execution_count": 84,
   "outputs": [
    {
     "data": {
      "text/plain": "                id  hospital_number  rectal_temp       pulse  \\\ncount   824.000000     8.240000e+02   824.000000  824.000000   \nmean   1646.500000     1.108357e+06    38.244539   80.229369   \nstd     238.012605     1.555627e+06     0.785234   29.164711   \nmin    1235.000000     5.213990e+05    36.000000   36.000000   \n25%    1440.750000     5.287430e+05    37.800000   54.000000   \n50%    1646.500000     5.298085e+05    38.200000   76.000000   \n75%    1852.250000     5.346440e+05    38.600000  100.000000   \nmax    2058.000000     5.305129e+06    40.800000  184.000000   \n\n       respiratory_rate  nasogastric_reflux_ph  packed_cell_volume  \\\ncount         824.00000             824.000000          824.000000   \nmean           30.71966               4.508495           49.063350   \nstd            17.43191               1.883464           10.450138   \nmin             9.00000               1.000000           23.000000   \n25%            18.00000               3.000000           43.000000   \n50%            28.00000               4.500000           48.000000   \n75%            36.00000               6.500000           55.000000   \nmax            96.00000               7.500000           75.000000   \n\n       total_protein  abdomo_protein      lesion_1     lesion_2  lesion_3  \ncount     824.000000      824.000000    824.000000   824.000000     824.0  \nmean       20.796238        3.336420   3709.803398    12.391990       0.0  \nstd        26.413588        1.539235   5112.931057   197.067771       0.0  \nmin         3.900000        0.100000      0.000000     0.000000       0.0  \n25%         6.600000        2.000000   2205.000000     0.000000       0.0  \n50%         7.500000        3.300000   2209.000000     0.000000       0.0  \n75%         8.900000        4.300000   3205.000000     0.000000       0.0  \nmax        89.000000       10.100000  31110.000000  4300.000000       0.0  ",
      "text/html": "<div>\n<style scoped>\n    .dataframe tbody tr th:only-of-type {\n        vertical-align: middle;\n    }\n\n    .dataframe tbody tr th {\n        vertical-align: top;\n    }\n\n    .dataframe thead th {\n        text-align: right;\n    }\n</style>\n<table border=\"1\" class=\"dataframe\">\n  <thead>\n    <tr style=\"text-align: right;\">\n      <th></th>\n      <th>id</th>\n      <th>hospital_number</th>\n      <th>rectal_temp</th>\n      <th>pulse</th>\n      <th>respiratory_rate</th>\n      <th>nasogastric_reflux_ph</th>\n      <th>packed_cell_volume</th>\n      <th>total_protein</th>\n      <th>abdomo_protein</th>\n      <th>lesion_1</th>\n      <th>lesion_2</th>\n      <th>lesion_3</th>\n    </tr>\n  </thead>\n  <tbody>\n    <tr>\n      <th>count</th>\n      <td>824.000000</td>\n      <td>8.240000e+02</td>\n      <td>824.000000</td>\n      <td>824.000000</td>\n      <td>824.00000</td>\n      <td>824.000000</td>\n      <td>824.000000</td>\n      <td>824.000000</td>\n      <td>824.000000</td>\n      <td>824.000000</td>\n      <td>824.000000</td>\n      <td>824.0</td>\n    </tr>\n    <tr>\n      <th>mean</th>\n      <td>1646.500000</td>\n      <td>1.108357e+06</td>\n      <td>38.244539</td>\n      <td>80.229369</td>\n      <td>30.71966</td>\n      <td>4.508495</td>\n      <td>49.063350</td>\n      <td>20.796238</td>\n      <td>3.336420</td>\n      <td>3709.803398</td>\n      <td>12.391990</td>\n      <td>0.0</td>\n    </tr>\n    <tr>\n      <th>std</th>\n      <td>238.012605</td>\n      <td>1.555627e+06</td>\n      <td>0.785234</td>\n      <td>29.164711</td>\n      <td>17.43191</td>\n      <td>1.883464</td>\n      <td>10.450138</td>\n      <td>26.413588</td>\n      <td>1.539235</td>\n      <td>5112.931057</td>\n      <td>197.067771</td>\n      <td>0.0</td>\n    </tr>\n    <tr>\n      <th>min</th>\n      <td>1235.000000</td>\n      <td>5.213990e+05</td>\n      <td>36.000000</td>\n      <td>36.000000</td>\n      <td>9.00000</td>\n      <td>1.000000</td>\n      <td>23.000000</td>\n      <td>3.900000</td>\n      <td>0.100000</td>\n      <td>0.000000</td>\n      <td>0.000000</td>\n      <td>0.0</td>\n    </tr>\n    <tr>\n      <th>25%</th>\n      <td>1440.750000</td>\n      <td>5.287430e+05</td>\n      <td>37.800000</td>\n      <td>54.000000</td>\n      <td>18.00000</td>\n      <td>3.000000</td>\n      <td>43.000000</td>\n      <td>6.600000</td>\n      <td>2.000000</td>\n      <td>2205.000000</td>\n      <td>0.000000</td>\n      <td>0.0</td>\n    </tr>\n    <tr>\n      <th>50%</th>\n      <td>1646.500000</td>\n      <td>5.298085e+05</td>\n      <td>38.200000</td>\n      <td>76.000000</td>\n      <td>28.00000</td>\n      <td>4.500000</td>\n      <td>48.000000</td>\n      <td>7.500000</td>\n      <td>3.300000</td>\n      <td>2209.000000</td>\n      <td>0.000000</td>\n      <td>0.0</td>\n    </tr>\n    <tr>\n      <th>75%</th>\n      <td>1852.250000</td>\n      <td>5.346440e+05</td>\n      <td>38.600000</td>\n      <td>100.000000</td>\n      <td>36.00000</td>\n      <td>6.500000</td>\n      <td>55.000000</td>\n      <td>8.900000</td>\n      <td>4.300000</td>\n      <td>3205.000000</td>\n      <td>0.000000</td>\n      <td>0.0</td>\n    </tr>\n    <tr>\n      <th>max</th>\n      <td>2058.000000</td>\n      <td>5.305129e+06</td>\n      <td>40.800000</td>\n      <td>184.000000</td>\n      <td>96.00000</td>\n      <td>7.500000</td>\n      <td>75.000000</td>\n      <td>89.000000</td>\n      <td>10.100000</td>\n      <td>31110.000000</td>\n      <td>4300.000000</td>\n      <td>0.0</td>\n    </tr>\n  </tbody>\n</table>\n</div>"
     },
     "execution_count": 84,
     "metadata": {},
     "output_type": "execute_result"
    }
   ],
   "source": [
    "data_test.describe()"
   ],
   "metadata": {
    "collapsed": false,
    "ExecuteTime": {
     "end_time": "2023-11-05T06:11:45.595299305Z",
     "start_time": "2023-11-05T06:11:45.501594859Z"
    }
   },
   "id": "59d52ea36b4fc8b4"
  },
  {
   "cell_type": "code",
   "execution_count": 85,
   "outputs": [
    {
     "name": "stdout",
     "output_type": "stream",
     "text": [
      "<class 'pandas.core.frame.DataFrame'>\n",
      "RangeIndex: 824 entries, 0 to 823\n",
      "Data columns (total 28 columns):\n",
      " #   Column                 Non-Null Count  Dtype  \n",
      "---  ------                 --------------  -----  \n",
      " 0   id                     824 non-null    int64  \n",
      " 1   surgery                824 non-null    object \n",
      " 2   age                    824 non-null    object \n",
      " 3   hospital_number        824 non-null    int64  \n",
      " 4   rectal_temp            824 non-null    float64\n",
      " 5   pulse                  824 non-null    float64\n",
      " 6   respiratory_rate       824 non-null    float64\n",
      " 7   temp_of_extremities    789 non-null    object \n",
      " 8   peripheral_pulse       777 non-null    object \n",
      " 9   mucous_membrane        811 non-null    object \n",
      " 10  capillary_refill_time  818 non-null    object \n",
      " 11  pain                   795 non-null    object \n",
      " 12  peristalsis            805 non-null    object \n",
      " 13  abdominal_distention   802 non-null    object \n",
      " 14  nasogastric_tube       760 non-null    object \n",
      " 15  nasogastric_reflux     810 non-null    object \n",
      " 16  nasogastric_reflux_ph  824 non-null    float64\n",
      " 17  rectal_exam_feces      699 non-null    object \n",
      " 18  abdomen                670 non-null    object \n",
      " 19  packed_cell_volume     824 non-null    float64\n",
      " 20  total_protein          824 non-null    float64\n",
      " 21  abdomo_appearance      793 non-null    object \n",
      " 22  abdomo_protein         824 non-null    float64\n",
      " 23  surgical_lesion        824 non-null    object \n",
      " 24  lesion_1               824 non-null    int64  \n",
      " 25  lesion_2               824 non-null    int64  \n",
      " 26  lesion_3               824 non-null    int64  \n",
      " 27  cp_data                824 non-null    object \n",
      "dtypes: float64(7), int64(5), object(16)\n",
      "memory usage: 180.4+ KB\n"
     ]
    }
   ],
   "source": [
    "data_test.info()"
   ],
   "metadata": {
    "collapsed": false,
    "ExecuteTime": {
     "end_time": "2023-11-05T06:11:45.616057812Z",
     "start_time": "2023-11-05T06:11:45.557200884Z"
    }
   },
   "id": "c18003cb216c7dc1"
  }
 ],
 "metadata": {
  "kernelspec": {
   "display_name": "Python 3",
   "language": "python",
   "name": "python3"
  },
  "language_info": {
   "codemirror_mode": {
    "name": "ipython",
    "version": 2
   },
   "file_extension": ".py",
   "mimetype": "text/x-python",
   "name": "python",
   "nbconvert_exporter": "python",
   "pygments_lexer": "ipython2",
   "version": "2.7.6"
  }
 },
 "nbformat": 4,
 "nbformat_minor": 5
}
